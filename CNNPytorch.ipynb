{
  "nbformat": 4,
  "nbformat_minor": 0,
  "metadata": {
    "colab": {
      "name": "Untitled10.ipynb",
      "provenance": [],
      "authorship_tag": "ABX9TyN0Mmvdl6ZC0Zq0OkhjLSMK",
      "include_colab_link": true
    },
    "kernelspec": {
      "name": "python3",
      "display_name": "Python 3"
    }
  },
  "cells": [
    {
      "cell_type": "markdown",
      "metadata": {
        "id": "view-in-github",
        "colab_type": "text"
      },
      "source": [
        "<a href=\"https://colab.research.google.com/github/hieunt8git/MachineLearning/blob/master/CNNPytorch.ipynb\" target=\"_parent\"><img src=\"https://colab.research.google.com/assets/colab-badge.svg\" alt=\"Open In Colab\"/></a>"
      ]
    },
    {
      "cell_type": "code",
      "metadata": {
        "id": "pW2eLXunWXTw"
      },
      "source": [
        "# Get data\r\n",
        "!mkdir '/content/download'\r\n",
        "!wget 'https://www.cs.toronto.edu/~kriz/cifar-10-python.tar.gz' -P '/content/download'\r\n",
        "!mkdir '/content/data'\r\n",
        "!tar xvzf '/content/download/cifar-10-python.tar.gz' --directory '/content/data/'"
      ],
      "execution_count": null,
      "outputs": []
    },
    {
      "cell_type": "code",
      "metadata": {
        "id": "aGmqGX_KYdUf"
      },
      "source": [
        ""
      ],
      "execution_count": null,
      "outputs": []
    }
  ]
}